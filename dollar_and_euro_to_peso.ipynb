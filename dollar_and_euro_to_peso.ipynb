{
 "cells": [
  {
   "cell_type": "markdown",
   "id": "ad7b417c",
   "metadata": {},
   "source": [
    "# Euro exchange currency\n",
    "\n",
    "### Websites\n",
    "\n",
    "###### Twilio: \n",
    "https://www.twilio.com/en-us\n",
    "\n",
    "###### Weather API: \n",
    "https://exchangeratesapi.io/"
   ]
  },
  {
   "cell_type": "markdown",
   "id": "73f4b7ca",
   "metadata": {},
   "source": [
    "### Twilio tokens:\n",
    "###### Account SID:\n",
    "AC33ae0ed26f623a42d5767445994807cf"
   ]
  },
  {
   "cell_type": "code",
   "execution_count": 1,
   "id": "55b5338f",
   "metadata": {},
   "outputs": [],
   "source": [
    "account_sid= \"AC33ae0ed26f623a42d5767445994807cf\""
   ]
  },
  {
   "cell_type": "markdown",
   "id": "9e0b235f",
   "metadata": {},
   "source": [
    "###### Auth Token:\n",
    "c33ae12852e70b97e3078b68fc8de318"
   ]
  },
  {
   "cell_type": "code",
   "execution_count": 2,
   "id": "d489a982",
   "metadata": {},
   "outputs": [],
   "source": [
    "auth_token = \"c33ae12852e70b97e3078b68fc8de318\""
   ]
  },
  {
   "cell_type": "markdown",
   "id": "5769c607",
   "metadata": {},
   "source": [
    "###### Twilio Phone Number:\n",
    "+12138141175"
   ]
  },
  {
   "cell_type": "code",
   "execution_count": 4,
   "id": "465bbf95",
   "metadata": {},
   "outputs": [],
   "source": [
    "phone_number = \"+12138141175\" "
   ]
  },
  {
   "cell_type": "markdown",
   "id": "7f88cd8e",
   "metadata": {},
   "source": [
    "## Exchange rate API"
   ]
  },
  {
   "cell_type": "markdown",
   "id": "cdccf2e9",
   "metadata": {},
   "source": [
    "###### API KEY\n",
    "e3c05093f41dd1ee2c80675720b518c9"
   ]
  },
  {
   "cell_type": "code",
   "execution_count": 5,
   "id": "6c36a39c",
   "metadata": {},
   "outputs": [],
   "source": [
    "api_key = \"e3c05093f41dd1ee2c80675720b518c9\""
   ]
  },
  {
   "cell_type": "markdown",
   "id": "cc11a453",
   "metadata": {},
   "source": [
    "## Install Libraries"
   ]
  },
  {
   "cell_type": "markdown",
   "id": "308eecd7",
   "metadata": {},
   "source": [
    "###### Request:\n",
    "conda install -c anaconda requests\n",
    "\n",
    "###### Twilio:\n",
    "conda install -c conda-forge twilio"
   ]
  },
  {
   "cell_type": "markdown",
   "id": "c4dd57ed",
   "metadata": {},
   "source": [
    "### Import Libraries"
   ]
  },
  {
   "cell_type": "code",
   "execution_count": 6,
   "id": "b1a0bdfa",
   "metadata": {},
   "outputs": [],
   "source": [
    "from twilio.rest import Client\n",
    "import requests\n",
    "import requests.exceptions\n",
    "import json\n",
    "import pandas as pd\n",
    "import datetime"
   ]
  },
  {
   "cell_type": "markdown",
   "id": "8bd21d06",
   "metadata": {},
   "source": [
    "### URL"
   ]
  },
  {
   "cell_type": "markdown",
   "id": "29dba682",
   "metadata": {},
   "source": [
    "###### Documentation\n",
    "https://exchangeratesapi.io/documentation/"
   ]
  },
  {
   "cell_type": "code",
   "execution_count": 8,
   "id": "a1b4d7c4",
   "metadata": {},
   "outputs": [],
   "source": [
    "url = \"http://api.exchangeratesapi.io/v1/latest?access_key=\"+api_key"
   ]
  },
  {
   "cell_type": "code",
   "execution_count": 9,
   "id": "4d422c8b",
   "metadata": {
    "scrolled": true
   },
   "outputs": [
    {
     "data": {
      "text/plain": [
       "'http://api.exchangeratesapi.io/v1/latest?access_key=e3c05093f41dd1ee2c80675720b518c9'"
      ]
     },
     "execution_count": 9,
     "metadata": {},
     "output_type": "execute_result"
    }
   ],
   "source": [
    "url"
   ]
  },
  {
   "cell_type": "markdown",
   "id": "d453c7c9",
   "metadata": {},
   "source": [
    "### Request"
   ]
  },
  {
   "cell_type": "code",
   "execution_count": 10,
   "id": "85a70d69",
   "metadata": {},
   "outputs": [],
   "source": [
    "response= requests.get(url).json()"
   ]
  },
  {
   "cell_type": "markdown",
   "id": "bf5cc244",
   "metadata": {},
   "source": [
    "###### NOTE:\n",
    "Print the response in order to look for the information we need"
   ]
  },
  {
   "cell_type": "code",
   "execution_count": 13,
   "id": "559f3126",
   "metadata": {},
   "outputs": [
    {
     "data": {
      "text/plain": [
       "{'success': True,\n",
       " 'timestamp': 1696796883,\n",
       " 'base': 'EUR',\n",
       " 'date': '2023-10-08',\n",
       " 'rates': {'AED': 3.879826,\n",
       "  'AFN': 79.692086,\n",
       "  'ALL': 105.306332,\n",
       "  'AMD': 440.154565,\n",
       "  'ANG': 1.895215,\n",
       "  'AOA': 875.149767,\n",
       "  'ARS': 369.471172,\n",
       "  'AUD': 1.659851,\n",
       "  'AWG': 1.901342,\n",
       "  'AZN': 1.794372,\n",
       "  'BAM': 1.948516,\n",
       "  'BBD': 2.123263,\n",
       "  'BDT': 115.936593,\n",
       "  'BGN': 1.951902,\n",
       "  'BHD': 0.396418,\n",
       "  'BIF': 2982.550298,\n",
       "  'BMD': 1.056301,\n",
       "  'BND': 1.437028,\n",
       "  'BOB': 7.266834,\n",
       "  'BRL': 5.440586,\n",
       "  'BSD': 1.051569,\n",
       "  'BTC': 3.7842618e-05,\n",
       "  'BTN': 87.52072,\n",
       "  'BWP': 14.544628,\n",
       "  'BYN': 3.463552,\n",
       "  'BYR': 20703.503857,\n",
       "  'BZD': 2.119776,\n",
       "  'CAD': 1.443277,\n",
       "  'CDF': 2653.960239,\n",
       "  'CHF': 0.960379,\n",
       "  'CLF': 0.034824,\n",
       "  'CLP': 960.907827,\n",
       "  'CNY': 7.599878,\n",
       "  'COP': 4573.502823,\n",
       "  'CRC': 561.401307,\n",
       "  'CUC': 1.056301,\n",
       "  'CUP': 27.991982,\n",
       "  'CVE': 109.85433,\n",
       "  'CZK': 24.462988,\n",
       "  'DJF': 187.240038,\n",
       "  'DKK': 7.457011,\n",
       "  'DOP': 59.736686,\n",
       "  'DZD': 145.351262,\n",
       "  'EGP': 32.509899,\n",
       "  'ERN': 15.844518,\n",
       "  'ETB': 58.623547,\n",
       "  'EUR': 1,\n",
       "  'FJD': 2.396378,\n",
       "  'FKP': 0.863058,\n",
       "  'GBP': 0.865466,\n",
       "  'GEL': 2.825612,\n",
       "  'GGP': 0.863058,\n",
       "  'GHS': 12.361788,\n",
       "  'GIP': 0.863058,\n",
       "  'GMD': 69.199522,\n",
       "  'GNF': 9029.245868,\n",
       "  'GTQ': 8.250158,\n",
       "  'GYD': 220.007543,\n",
       "  'HKD': 8.27264,\n",
       "  'HNL': 25.935047,\n",
       "  'HRK': 7.409646,\n",
       "  'HTG': 141.441249,\n",
       "  'HUF': 387.086801,\n",
       "  'IDR': 16529.159892,\n",
       "  'ILS': 4.077428,\n",
       "  'IMP': 0.863058,\n",
       "  'INR': 87.800251,\n",
       "  'IQD': 1377.649916,\n",
       "  'IRR': 44615.527256,\n",
       "  'ISK': 144.776933,\n",
       "  'JEP': 0.863058,\n",
       "  'JMD': 163.299535,\n",
       "  'JOD': 0.74955,\n",
       "  'JPY': 157.44201,\n",
       "  'KES': 155.349256,\n",
       "  'KGS': 93.926004,\n",
       "  'KHR': 4339.776564,\n",
       "  'KMF': 493.662182,\n",
       "  'KPW': 950.617094,\n",
       "  'KRW': 1420.043801,\n",
       "  'KWD': 0.326788,\n",
       "  'KYD': 0.876324,\n",
       "  'KZT': 501.963504,\n",
       "  'LAK': 21554.422857,\n",
       "  'LBP': 15805.713323,\n",
       "  'LKR': 340.825887,\n",
       "  'LRD': 197.053011,\n",
       "  'LSL': 20.602162,\n",
       "  'LTL': 3.118983,\n",
       "  'LVL': 0.638946,\n",
       "  'LYD': 5.149749,\n",
       "  'MAD': 10.762068,\n",
       "  'MDL': 19.170335,\n",
       "  'MGA': 4777.141558,\n",
       "  'MKD': 61.290876,\n",
       "  'MMK': 2208.344521,\n",
       "  'MNT': 3652.673245,\n",
       "  'MOP': 8.483486,\n",
       "  'MRO': 377.099353,\n",
       "  'MUR': 46.687084,\n",
       "  'MVR': 16.265711,\n",
       "  'MWK': 1219.242093,\n",
       "  'MXN': 19.198148,\n",
       "  'MYR': 4.993661,\n",
       "  'MZN': 66.810999,\n",
       "  'NAD': 20.596587,\n",
       "  'NGN': 810.183106,\n",
       "  'NIO': 38.476164,\n",
       "  'NOK': 11.003496,\n",
       "  'NPR': 140.033511,\n",
       "  'NZD': 1.770091,\n",
       "  'OMR': 0.406718,\n",
       "  'PAB': 1.051569,\n",
       "  'PEN': 4.021068,\n",
       "  'PGK': 3.870531,\n",
       "  'PHP': 59.890698,\n",
       "  'PKR': 293.3142,\n",
       "  'PLN': 4.57805,\n",
       "  'PYG': 7689.25517,\n",
       "  'QAR': 3.845985,\n",
       "  'RON': 4.977793,\n",
       "  'RSD': 116.853166,\n",
       "  'RUB': 106.686127,\n",
       "  'RWF': 1280.014906,\n",
       "  'SAR': 3.961536,\n",
       "  'SBD': 8.952348,\n",
       "  'SCR': 13.472116,\n",
       "  'SDG': 632.067181,\n",
       "  'SEK': 11.595737,\n",
       "  'SGD': 1.441788,\n",
       "  'SHP': 1.285255,\n",
       "  'SLE': 23.650545,\n",
       "  'SLL': 20861.948875,\n",
       "  'SOS': 601.556635,\n",
       "  'SSP': 635.362119,\n",
       "  'SRD': 40.158445,\n",
       "  'STD': 21863.302532,\n",
       "  'SYP': 13733.772209,\n",
       "  'SZL': 20.369851,\n",
       "  'THB': 39.170286,\n",
       "  'TJS': 11.551915,\n",
       "  'TMT': 3.707617,\n",
       "  'TND': 3.355077,\n",
       "  'TOP': 2.523873,\n",
       "  'TRY': 29.216837,\n",
       "  'TTD': 7.124367,\n",
       "  'TWD': 33.942447,\n",
       "  'TZS': 2634.252345,\n",
       "  'UAH': 38.540025,\n",
       "  'UGX': 3938.277493,\n",
       "  'USD': 1.056301,\n",
       "  'UYU': 41.176071,\n",
       "  'UZS': 12828.044775,\n",
       "  'VEF': 3662517.337644,\n",
       "  'VES': 36.660505,\n",
       "  'VND': 25757.905181,\n",
       "  'VUV': 128.362451,\n",
       "  'WST': 2.834175,\n",
       "  'XAF': 653.513961,\n",
       "  'XAG': 0.048886,\n",
       "  'XAU': 0.000576,\n",
       "  'XCD': 2.854707,\n",
       "  'XDR': 0.79971,\n",
       "  'XOF': 653.513961,\n",
       "  'XPF': 119.998575,\n",
       "  'YER': 264.489963,\n",
       "  'ZAR': 20.469612,\n",
       "  'ZMK': 9507.981375,\n",
       "  'ZMW': 22.425168,\n",
       "  'ZWL': 340.128561}}"
      ]
     },
     "execution_count": 13,
     "metadata": {},
     "output_type": "execute_result"
    }
   ],
   "source": [
    "response"
   ]
  },
  {
   "cell_type": "code",
   "execution_count": 12,
   "id": "4861debb",
   "metadata": {
    "scrolled": true
   },
   "outputs": [
    {
     "data": {
      "text/plain": [
       "dict_keys(['success', 'timestamp', 'base', 'date', 'rates'])"
      ]
     },
     "execution_count": 12,
     "metadata": {},
     "output_type": "execute_result"
    }
   ],
   "source": [
    "response.keys()"
   ]
  },
  {
   "cell_type": "markdown",
   "id": "339c1211",
   "metadata": {},
   "source": [
    "###### NOTE:\n",
    "We'll use the 'rates' key"
   ]
  },
  {
   "cell_type": "code",
   "execution_count": 14,
   "id": "df74c7c1",
   "metadata": {
    "scrolled": false
   },
   "outputs": [
    {
     "data": {
      "text/plain": [
       "{'AED': 3.879826,\n",
       " 'AFN': 79.692086,\n",
       " 'ALL': 105.306332,\n",
       " 'AMD': 440.154565,\n",
       " 'ANG': 1.895215,\n",
       " 'AOA': 875.149767,\n",
       " 'ARS': 369.471172,\n",
       " 'AUD': 1.659851,\n",
       " 'AWG': 1.901342,\n",
       " 'AZN': 1.794372,\n",
       " 'BAM': 1.948516,\n",
       " 'BBD': 2.123263,\n",
       " 'BDT': 115.936593,\n",
       " 'BGN': 1.951902,\n",
       " 'BHD': 0.396418,\n",
       " 'BIF': 2982.550298,\n",
       " 'BMD': 1.056301,\n",
       " 'BND': 1.437028,\n",
       " 'BOB': 7.266834,\n",
       " 'BRL': 5.440586,\n",
       " 'BSD': 1.051569,\n",
       " 'BTC': 3.7842618e-05,\n",
       " 'BTN': 87.52072,\n",
       " 'BWP': 14.544628,\n",
       " 'BYN': 3.463552,\n",
       " 'BYR': 20703.503857,\n",
       " 'BZD': 2.119776,\n",
       " 'CAD': 1.443277,\n",
       " 'CDF': 2653.960239,\n",
       " 'CHF': 0.960379,\n",
       " 'CLF': 0.034824,\n",
       " 'CLP': 960.907827,\n",
       " 'CNY': 7.599878,\n",
       " 'COP': 4573.502823,\n",
       " 'CRC': 561.401307,\n",
       " 'CUC': 1.056301,\n",
       " 'CUP': 27.991982,\n",
       " 'CVE': 109.85433,\n",
       " 'CZK': 24.462988,\n",
       " 'DJF': 187.240038,\n",
       " 'DKK': 7.457011,\n",
       " 'DOP': 59.736686,\n",
       " 'DZD': 145.351262,\n",
       " 'EGP': 32.509899,\n",
       " 'ERN': 15.844518,\n",
       " 'ETB': 58.623547,\n",
       " 'EUR': 1,\n",
       " 'FJD': 2.396378,\n",
       " 'FKP': 0.863058,\n",
       " 'GBP': 0.865466,\n",
       " 'GEL': 2.825612,\n",
       " 'GGP': 0.863058,\n",
       " 'GHS': 12.361788,\n",
       " 'GIP': 0.863058,\n",
       " 'GMD': 69.199522,\n",
       " 'GNF': 9029.245868,\n",
       " 'GTQ': 8.250158,\n",
       " 'GYD': 220.007543,\n",
       " 'HKD': 8.27264,\n",
       " 'HNL': 25.935047,\n",
       " 'HRK': 7.409646,\n",
       " 'HTG': 141.441249,\n",
       " 'HUF': 387.086801,\n",
       " 'IDR': 16529.159892,\n",
       " 'ILS': 4.077428,\n",
       " 'IMP': 0.863058,\n",
       " 'INR': 87.800251,\n",
       " 'IQD': 1377.649916,\n",
       " 'IRR': 44615.527256,\n",
       " 'ISK': 144.776933,\n",
       " 'JEP': 0.863058,\n",
       " 'JMD': 163.299535,\n",
       " 'JOD': 0.74955,\n",
       " 'JPY': 157.44201,\n",
       " 'KES': 155.349256,\n",
       " 'KGS': 93.926004,\n",
       " 'KHR': 4339.776564,\n",
       " 'KMF': 493.662182,\n",
       " 'KPW': 950.617094,\n",
       " 'KRW': 1420.043801,\n",
       " 'KWD': 0.326788,\n",
       " 'KYD': 0.876324,\n",
       " 'KZT': 501.963504,\n",
       " 'LAK': 21554.422857,\n",
       " 'LBP': 15805.713323,\n",
       " 'LKR': 340.825887,\n",
       " 'LRD': 197.053011,\n",
       " 'LSL': 20.602162,\n",
       " 'LTL': 3.118983,\n",
       " 'LVL': 0.638946,\n",
       " 'LYD': 5.149749,\n",
       " 'MAD': 10.762068,\n",
       " 'MDL': 19.170335,\n",
       " 'MGA': 4777.141558,\n",
       " 'MKD': 61.290876,\n",
       " 'MMK': 2208.344521,\n",
       " 'MNT': 3652.673245,\n",
       " 'MOP': 8.483486,\n",
       " 'MRO': 377.099353,\n",
       " 'MUR': 46.687084,\n",
       " 'MVR': 16.265711,\n",
       " 'MWK': 1219.242093,\n",
       " 'MXN': 19.198148,\n",
       " 'MYR': 4.993661,\n",
       " 'MZN': 66.810999,\n",
       " 'NAD': 20.596587,\n",
       " 'NGN': 810.183106,\n",
       " 'NIO': 38.476164,\n",
       " 'NOK': 11.003496,\n",
       " 'NPR': 140.033511,\n",
       " 'NZD': 1.770091,\n",
       " 'OMR': 0.406718,\n",
       " 'PAB': 1.051569,\n",
       " 'PEN': 4.021068,\n",
       " 'PGK': 3.870531,\n",
       " 'PHP': 59.890698,\n",
       " 'PKR': 293.3142,\n",
       " 'PLN': 4.57805,\n",
       " 'PYG': 7689.25517,\n",
       " 'QAR': 3.845985,\n",
       " 'RON': 4.977793,\n",
       " 'RSD': 116.853166,\n",
       " 'RUB': 106.686127,\n",
       " 'RWF': 1280.014906,\n",
       " 'SAR': 3.961536,\n",
       " 'SBD': 8.952348,\n",
       " 'SCR': 13.472116,\n",
       " 'SDG': 632.067181,\n",
       " 'SEK': 11.595737,\n",
       " 'SGD': 1.441788,\n",
       " 'SHP': 1.285255,\n",
       " 'SLE': 23.650545,\n",
       " 'SLL': 20861.948875,\n",
       " 'SOS': 601.556635,\n",
       " 'SSP': 635.362119,\n",
       " 'SRD': 40.158445,\n",
       " 'STD': 21863.302532,\n",
       " 'SYP': 13733.772209,\n",
       " 'SZL': 20.369851,\n",
       " 'THB': 39.170286,\n",
       " 'TJS': 11.551915,\n",
       " 'TMT': 3.707617,\n",
       " 'TND': 3.355077,\n",
       " 'TOP': 2.523873,\n",
       " 'TRY': 29.216837,\n",
       " 'TTD': 7.124367,\n",
       " 'TWD': 33.942447,\n",
       " 'TZS': 2634.252345,\n",
       " 'UAH': 38.540025,\n",
       " 'UGX': 3938.277493,\n",
       " 'USD': 1.056301,\n",
       " 'UYU': 41.176071,\n",
       " 'UZS': 12828.044775,\n",
       " 'VEF': 3662517.337644,\n",
       " 'VES': 36.660505,\n",
       " 'VND': 25757.905181,\n",
       " 'VUV': 128.362451,\n",
       " 'WST': 2.834175,\n",
       " 'XAF': 653.513961,\n",
       " 'XAG': 0.048886,\n",
       " 'XAU': 0.000576,\n",
       " 'XCD': 2.854707,\n",
       " 'XDR': 0.79971,\n",
       " 'XOF': 653.513961,\n",
       " 'XPF': 119.998575,\n",
       " 'YER': 264.489963,\n",
       " 'ZAR': 20.469612,\n",
       " 'ZMK': 9507.981375,\n",
       " 'ZMW': 22.425168,\n",
       " 'ZWL': 340.128561}"
      ]
     },
     "execution_count": 14,
     "metadata": {},
     "output_type": "execute_result"
    }
   ],
   "source": [
    "response['rates']"
   ]
  },
  {
   "cell_type": "markdown",
   "id": "15692ff9",
   "metadata": {},
   "source": [
    "###### NOTE:\n",
    "We will look for the currency of which we want to know its equivalence"
   ]
  },
  {
   "cell_type": "code",
   "execution_count": 18,
   "id": "2ee6d9e9",
   "metadata": {
    "scrolled": true
   },
   "outputs": [
    {
     "data": {
      "text/plain": [
       "19.198148"
      ]
     },
     "execution_count": 18,
     "metadata": {},
     "output_type": "execute_result"
    }
   ],
   "source": [
    "response['rates']['MXN']"
   ]
  },
  {
   "cell_type": "code",
   "execution_count": 20,
   "id": "428f6933",
   "metadata": {
    "scrolled": true
   },
   "outputs": [
    {
     "data": {
      "text/plain": [
       "1.056301"
      ]
     },
     "execution_count": 20,
     "metadata": {},
     "output_type": "execute_result"
    }
   ],
   "source": [
    "response['rates']['USD']"
   ]
  },
  {
   "cell_type": "code",
   "execution_count": 21,
   "id": "b691ff93",
   "metadata": {},
   "outputs": [],
   "source": [
    "dollar_peso= response['rates']['MXN']/ response['rates']['USD']"
   ]
  },
  {
   "cell_type": "code",
   "execution_count": 22,
   "id": "9364916d",
   "metadata": {
    "scrolled": true
   },
   "outputs": [
    {
     "data": {
      "text/plain": [
       "18.1748838635957"
      ]
     },
     "execution_count": 22,
     "metadata": {},
     "output_type": "execute_result"
    }
   ],
   "source": [
    "dollar_peso"
   ]
  },
  {
   "cell_type": "markdown",
   "id": "e502b62e",
   "metadata": {},
   "source": [
    "###### DATE"
   ]
  },
  {
   "cell_type": "code",
   "execution_count": 42,
   "id": "bda9e1bc",
   "metadata": {},
   "outputs": [
    {
     "data": {
      "text/plain": [
       "'2023-10-08'"
      ]
     },
     "execution_count": 42,
     "metadata": {},
     "output_type": "execute_result"
    }
   ],
   "source": [
    "response['date']"
   ]
  },
  {
   "cell_type": "code",
   "execution_count": 43,
   "id": "ff6bd36b",
   "metadata": {
    "scrolled": true
   },
   "outputs": [
    {
     "data": {
      "text/plain": [
       "['2023', '10', '08']"
      ]
     },
     "execution_count": 43,
     "metadata": {},
     "output_type": "execute_result"
    }
   ],
   "source": [
    "response['date'].split(\"-\")"
   ]
  },
  {
   "cell_type": "code",
   "execution_count": 49,
   "id": "5d20915f",
   "metadata": {},
   "outputs": [],
   "source": [
    "year = response['date'].split(\"-\")[0]"
   ]
  },
  {
   "cell_type": "code",
   "execution_count": 50,
   "id": "25dd2666",
   "metadata": {},
   "outputs": [
    {
     "data": {
      "text/plain": [
       "'2023'"
      ]
     },
     "execution_count": 50,
     "metadata": {},
     "output_type": "execute_result"
    }
   ],
   "source": [
    "year"
   ]
  },
  {
   "cell_type": "code",
   "execution_count": 56,
   "id": "ae773255",
   "metadata": {},
   "outputs": [],
   "source": [
    "month = response['date'].split(\"-\")[1]"
   ]
  },
  {
   "cell_type": "code",
   "execution_count": 57,
   "id": "29ef3996",
   "metadata": {},
   "outputs": [
    {
     "data": {
      "text/plain": [
       "'10'"
      ]
     },
     "execution_count": 57,
     "metadata": {},
     "output_type": "execute_result"
    }
   ],
   "source": [
    "month"
   ]
  },
  {
   "cell_type": "code",
   "execution_count": 58,
   "id": "ef66cbab",
   "metadata": {},
   "outputs": [],
   "source": [
    "day=response['date'].split(\"-\")[2]"
   ]
  },
  {
   "cell_type": "code",
   "execution_count": 59,
   "id": "31690867",
   "metadata": {
    "scrolled": true
   },
   "outputs": [
    {
     "data": {
      "text/plain": [
       "'08'"
      ]
     },
     "execution_count": 59,
     "metadata": {},
     "output_type": "execute_result"
    }
   ],
   "source": [
    "day"
   ]
  },
  {
   "cell_type": "code",
   "execution_count": 60,
   "id": "1f70f670",
   "metadata": {},
   "outputs": [],
   "source": [
    "list_date=[day,month,year]"
   ]
  },
  {
   "cell_type": "code",
   "execution_count": 61,
   "id": "d94b85a3",
   "metadata": {},
   "outputs": [
    {
     "data": {
      "text/plain": [
       "['08', '10', '2023']"
      ]
     },
     "execution_count": 61,
     "metadata": {},
     "output_type": "execute_result"
    }
   ],
   "source": [
    "list_date"
   ]
  },
  {
   "cell_type": "code",
   "execution_count": 62,
   "id": "1777e156",
   "metadata": {},
   "outputs": [],
   "source": [
    "real_date=\"-\".join(list_date)"
   ]
  },
  {
   "cell_type": "code",
   "execution_count": 63,
   "id": "acfbba1f",
   "metadata": {},
   "outputs": [
    {
     "data": {
      "text/plain": [
       "'08-10-2023'"
      ]
     },
     "execution_count": 63,
     "metadata": {},
     "output_type": "execute_result"
    }
   ],
   "source": [
    "real_date"
   ]
  },
  {
   "cell_type": "markdown",
   "id": "d19fae7d",
   "metadata": {},
   "source": [
    "### Dataframe"
   ]
  },
  {
   "cell_type": "code",
   "execution_count": 67,
   "id": "d25224dc",
   "metadata": {},
   "outputs": [],
   "source": [
    "date = str(real_date)\n",
    "euro = str(1)\n",
    "peso = str(response['rates']['MXN'])\n",
    "dollar = str(dollar_peso)"
   ]
  },
  {
   "cell_type": "markdown",
   "id": "c5164ea2",
   "metadata": {},
   "source": [
    " ### Message template"
   ]
  },
  {
   "cell_type": "code",
   "execution_count": 70,
   "id": "833c1e23",
   "metadata": {},
   "outputs": [],
   "source": [
    "message_template = \"Hello, today \" + date + \" the value of the euro is \" + peso + \" and the value of the dollar is \" + dollar"
   ]
  },
  {
   "cell_type": "markdown",
   "id": "64a7ed36",
   "metadata": {},
   "source": [
    "### Message"
   ]
  },
  {
   "cell_type": "code",
   "execution_count": 71,
   "id": "e3be5552",
   "metadata": {},
   "outputs": [
    {
     "name": "stdout",
     "output_type": "stream",
     "text": [
      "Message sentSM49674218ff4f1b063dcb9c8dd57b85ff\n"
     ]
    }
   ],
   "source": [
    "client = Client(account_sid, auth_token)\n",
    "\n",
    "message = client.messages \\\n",
    "    .create(\n",
    "         body= message_template,\n",
    "         from_= phone_number,\n",
    "         to='+524181709157'\n",
    "     )\n",
    "\n",
    "print('Message sent' + message.sid)"
   ]
  }
 ],
 "metadata": {
  "kernelspec": {
   "display_name": "Python 3 (ipykernel)",
   "language": "python",
   "name": "python3"
  },
  "language_info": {
   "codemirror_mode": {
    "name": "ipython",
    "version": 3
   },
   "file_extension": ".py",
   "mimetype": "text/x-python",
   "name": "python",
   "nbconvert_exporter": "python",
   "pygments_lexer": "ipython3",
   "version": "3.11.4"
  }
 },
 "nbformat": 4,
 "nbformat_minor": 5
}
